{
 "cells": [
  {
   "cell_type": "markdown",
   "source": [
    "# 4.1\n",
    "## 문제\n",
    "for를 사용하지 않고 iterator를 처리하라.\n",
    "## 답\n",
    "next()를 사용한다."
   ],
   "metadata": {
    "collapsed": false
   }
  },
  {
   "cell_type": "code",
   "execution_count": 3,
   "outputs": [
    {
     "name": "stdout",
     "output_type": "stream",
     "text": [
      "Hello, World!"
     ]
    }
   ],
   "source": [
    "it = iter(\"Hello, World!\")\n",
    "try:\n",
    "    while True:\n",
    "        s = next(it)\n",
    "        print(s, end=\"\")\n",
    "except StopIteration:\n",
    "    pass"
   ],
   "metadata": {
    "collapsed": false
   }
  },
  {
   "cell_type": "markdown",
   "source": [
    "# 4.2\n",
    "## 문제\n",
    "container sequence는 내부적으로 list, tuple, or some other iterable을 가지고 있다. 이 container를 iterate하라.\n",
    "\n",
    "## 답\n",
    "__iter__()를 구현한다.\n",
    "type(self).__name__은 class의 이름을 반환한다.\n",
    "type(self).__class__는 자신의 클래스 object를 반환한다. type(self)는 class object. 단순한 이름이 아니라 clas object의 reference이다. class object의 클래스는 type이다.\n"
   ],
   "metadata": {
    "collapsed": false
   }
  },
  {
   "cell_type": "code",
   "execution_count": 10,
   "outputs": [],
   "source": [
    "class Node:\n",
    "\n",
    "    def __init__(self, value):\n",
    "        self._value = value\n",
    "        self._children = []\n",
    "\n",
    "    def __repr__(self):\n",
    "        return f\"{type(self).__name__}({self._value})\"\n",
    "\n",
    "    def add_children(self, value):\n",
    "        self._children.append(value)\n",
    "\n",
    "    def __iter__(self):\n",
    "        return iter(self._children)"
   ],
   "metadata": {
    "collapsed": false
   }
  },
  {
   "cell_type": "code",
   "execution_count": 11,
   "outputs": [
    {
     "data": {
      "text/plain": "Node(1)"
     },
     "execution_count": 11,
     "metadata": {},
     "output_type": "execute_result"
    }
   ],
   "source": [
    "n = Node(1)\n",
    "n"
   ],
   "metadata": {
    "collapsed": false
   }
  },
  {
   "cell_type": "code",
   "execution_count": 8,
   "outputs": [
    {
     "data": {
      "text/plain": "__main__.Node"
     },
     "execution_count": 8,
     "metadata": {},
     "output_type": "execute_result"
    }
   ],
   "source": [
    "type(n)"
   ],
   "metadata": {
    "collapsed": false
   }
  },
  {
   "cell_type": "code",
   "execution_count": 9,
   "outputs": [
    {
     "data": {
      "text/plain": "type"
     },
     "execution_count": 9,
     "metadata": {},
     "output_type": "execute_result"
    }
   ],
   "source": [
    "type(n).__class__"
   ],
   "metadata": {
    "collapsed": false
   }
  },
  {
   "cell_type": "code",
   "execution_count": 12,
   "outputs": [
    {
     "name": "stdout",
     "output_type": "stream",
     "text": [
      "Node(1)\n",
      "Node(2)\n"
     ]
    }
   ],
   "source": [
    "root = Node(0)\n",
    "child1 = Node(1)\n",
    "child2 = Node(2)\n",
    "root.add_children(child1)\n",
    "root.add_children(child2)\n",
    "for ch in root:\n",
    "    print(ch)"
   ],
   "metadata": {
    "collapsed": false
   }
  },
  {
   "cell_type": "markdown",
   "source": [
    "## 부연 설명\n",
    "Node에 __iter__() 인터페이스를 추가해 root를 for loop에 사용할 수 있도록 만들었다. 이것이 중요한 점이다."
   ],
   "metadata": {
    "collapsed": false
   }
  }
 ],
 "metadata": {
  "kernelspec": {
   "display_name": "Python 3",
   "language": "python",
   "name": "python3"
  },
  "language_info": {
   "codemirror_mode": {
    "name": "ipython",
    "version": 2
   },
   "file_extension": ".py",
   "mimetype": "text/x-python",
   "name": "python",
   "nbconvert_exporter": "python",
   "pygments_lexer": "ipython2",
   "version": "2.7.6"
  }
 },
 "nbformat": 4,
 "nbformat_minor": 0
}
